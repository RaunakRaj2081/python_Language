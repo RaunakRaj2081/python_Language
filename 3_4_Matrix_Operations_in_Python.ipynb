{
  "nbformat": 4,
  "nbformat_minor": 0,
  "metadata": {
    "colab": {
      "provenance": [],
      "authorship_tag": "ABX9TyNtr/2aAvPhxf7iWHdjg/Pk",
      "include_colab_link": true
    },
    "kernelspec": {
      "name": "python3",
      "display_name": "Python 3"
    },
    "language_info": {
      "name": "python"
    }
  },
  "cells": [
    {
      "cell_type": "markdown",
      "metadata": {
        "id": "view-in-github",
        "colab_type": "text"
      },
      "source": [
        "<a href=\"https://colab.research.google.com/github/RaunakRaj2081/python_Language/blob/main/3_4_Matrix_Operations_in_Python.ipynb\" target=\"_parent\"><img src=\"https://colab.research.google.com/assets/colab-badge.svg\" alt=\"Open In Colab\"/></a>"
      ]
    },
    {
      "cell_type": "code",
      "execution_count": 1,
      "metadata": {
        "id": "thCWHOL_JiNH"
      },
      "outputs": [],
      "source": [
        "import numpy as np"
      ]
    },
    {
      "cell_type": "markdown",
      "source": [
        "#Matrix Addition"
      ],
      "metadata": {
        "id": "idLUXKSwJtiJ"
      }
    },
    {
      "cell_type": "markdown",
      "source": [
        "Two Matrices can be added only if they have the same shape"
      ],
      "metadata": {
        "id": "TEgkfT3MJwcH"
      }
    },
    {
      "cell_type": "code",
      "source": [
        "# creating two matrices\n",
        "\n",
        "A = np.array([[2,3],[4,5]])\n",
        "\n",
        "B = np.array([[6,7],[8,9]])\n",
        "\n",
        "print(A)\n",
        "print(B)\n",
        "A.shape\n",
        "B.shape"
      ],
      "metadata": {
        "colab": {
          "base_uri": "https://localhost:8080/"
        },
        "id": "tRIKDSkAJrlX",
        "outputId": "5a8684fd-2074-4749-9b42-8e02a2143294"
      },
      "execution_count": 3,
      "outputs": [
        {
          "output_type": "stream",
          "name": "stdout",
          "text": [
            "[[2 3]\n",
            " [4 5]]\n",
            "[[6 7]\n",
            " [8 9]]\n"
          ]
        },
        {
          "output_type": "execute_result",
          "data": {
            "text/plain": [
              "(2, 2)"
            ]
          },
          "metadata": {},
          "execution_count": 3
        }
      ]
    },
    {
      "cell_type": "code",
      "source": [
        "sum = A + B\n",
        "print(sum)"
      ],
      "metadata": {
        "colab": {
          "base_uri": "https://localhost:8080/"
        },
        "id": "KNF5NyhsJ1Fn",
        "outputId": "37bef412-1e0a-4593-e012-6ed23dfff23c"
      },
      "execution_count": 4,
      "outputs": [
        {
          "output_type": "stream",
          "name": "stdout",
          "text": [
            "[[ 8 10]\n",
            " [12 14]]\n"
          ]
        }
      ]
    },
    {
      "cell_type": "code",
      "source": [
        "# create two matrices with random values\n",
        "matrix_1 = np.random.randint(10, size=(3,3))\n",
        "matrix_2 = np.random.randint(20, size=(3,3))\n",
        "print(matrix_1)\n",
        "print(matrix_2)"
      ],
      "metadata": {
        "colab": {
          "base_uri": "https://localhost:8080/"
        },
        "id": "k5pXQGZMKAV5",
        "outputId": "57bbb2f7-f1ca-4b34-b091-68ca3b930d04"
      },
      "execution_count": 7,
      "outputs": [
        {
          "output_type": "stream",
          "name": "stdout",
          "text": [
            "[[3 1 0]\n",
            " [9 5 3]\n",
            " [9 7 7]]\n",
            "[[ 8 17  9]\n",
            " [13 10 17]\n",
            " [14 14 15]]\n"
          ]
        }
      ]
    },
    {
      "cell_type": "code",
      "source": [
        "sum = np.add(matrix_1, matrix_2)\n",
        "print(sum)"
      ],
      "metadata": {
        "colab": {
          "base_uri": "https://localhost:8080/"
        },
        "id": "yfpTQ6lGKF9w",
        "outputId": "d0e3cd6a-2341-4d4d-e1a0-ad03bb13abd0"
      },
      "execution_count": 8,
      "outputs": [
        {
          "output_type": "stream",
          "name": "stdout",
          "text": [
            "[[11 18  9]\n",
            " [22 15 20]\n",
            " [23 21 22]]\n"
          ]
        }
      ]
    },
    {
      "cell_type": "markdown",
      "source": [
        "#Matrix Subtraction"
      ],
      "metadata": {
        "id": "e3RYhIBGKPKI"
      }
    },
    {
      "cell_type": "code",
      "source": [
        "# create two matrices with random values\n",
        "matrix_1 = np.random.randint(10, size=(3,3))\n",
        "matrix_2 = np.random.randint(20, size=(3,3))\n",
        "print(matrix_1)\n",
        "print(matrix_2)"
      ],
      "metadata": {
        "colab": {
          "base_uri": "https://localhost:8080/"
        },
        "id": "AVrOV8oSKMKC",
        "outputId": "f3b92a1c-a079-4a44-897f-19e835f56b4f"
      },
      "execution_count": 9,
      "outputs": [
        {
          "output_type": "stream",
          "name": "stdout",
          "text": [
            "[[2 1 0]\n",
            " [3 6 7]\n",
            " [2 1 6]]\n",
            "[[19  1  5]\n",
            " [ 8  8 15]\n",
            " [ 4  3 13]]\n"
          ]
        }
      ]
    },
    {
      "cell_type": "code",
      "source": [
        "diff = np.subtract(matrix_1 , matrix_2)\n",
        "print(diff)"
      ],
      "metadata": {
        "colab": {
          "base_uri": "https://localhost:8080/"
        },
        "id": "DbI2YjC3KYw0",
        "outputId": "265cfd2f-5893-4d1e-eb9c-284e615a5c02"
      },
      "execution_count": 10,
      "outputs": [
        {
          "output_type": "stream",
          "name": "stdout",
          "text": [
            "[[-17   0  -5]\n",
            " [ -5  -2  -8]\n",
            " [ -2  -2  -7]]\n"
          ]
        }
      ]
    },
    {
      "cell_type": "code",
      "source": [
        "d = matrix_1 - matrix_2\n",
        "print(d)"
      ],
      "metadata": {
        "colab": {
          "base_uri": "https://localhost:8080/"
        },
        "id": "9OIvwp2nKfng",
        "outputId": "a2bbbf96-2e6c-41df-d493-8dce583e3edb"
      },
      "execution_count": 11,
      "outputs": [
        {
          "output_type": "stream",
          "name": "stdout",
          "text": [
            "[[-17   0  -5]\n",
            " [ -5  -2  -8]\n",
            " [ -2  -2  -7]]\n"
          ]
        }
      ]
    },
    {
      "cell_type": "markdown",
      "source": [
        "#Multiplying a matrix by a scalar"
      ],
      "metadata": {
        "id": "aP3Q_QpHKqYx"
      }
    },
    {
      "cell_type": "code",
      "source": [
        "x = 5\n",
        "y = np.random.randint(10, size=(4,4))\n",
        "\n",
        "print(y)"
      ],
      "metadata": {
        "colab": {
          "base_uri": "https://localhost:8080/"
        },
        "id": "A0gVGqODKm8X",
        "outputId": "690f9ee0-5e3c-4e78-a13c-8d87c1b71821"
      },
      "execution_count": 12,
      "outputs": [
        {
          "output_type": "stream",
          "name": "stdout",
          "text": [
            "[[2 6 4 7]\n",
            " [1 4 1 3]\n",
            " [3 1 9 8]\n",
            " [1 8 2 8]]\n"
          ]
        }
      ]
    },
    {
      "cell_type": "code",
      "source": [
        "product = np.multiply(x,y)\n",
        "print(product)"
      ],
      "metadata": {
        "colab": {
          "base_uri": "https://localhost:8080/"
        },
        "id": "WlGEpj6YKtY3",
        "outputId": "9665e9a9-4b22-4b1b-9cfd-d6a1c9729ae5"
      },
      "execution_count": 13,
      "outputs": [
        {
          "output_type": "stream",
          "name": "stdout",
          "text": [
            "[[10 30 20 35]\n",
            " [ 5 20  5 15]\n",
            " [15  5 45 40]\n",
            " [ 5 40 10 40]]\n"
          ]
        }
      ]
    },
    {
      "cell_type": "markdown",
      "source": [
        "#Multiplying 2 Matrices"
      ],
      "metadata": {
        "id": "JW_wbAEuKzrf"
      }
    },
    {
      "cell_type": "code",
      "source": [
        "# create two matrices with random values\n",
        "matrix_3 = np.random.randint(5, size=(3,3))\n",
        "matrix_4 = np.random.randint(5, size=(3,4))\n",
        "print(matrix_3)\n",
        "print(matrix_4)"
      ],
      "metadata": {
        "colab": {
          "base_uri": "https://localhost:8080/"
        },
        "id": "8xMOdzwAKxOe",
        "outputId": "0c553c64-7504-40fe-b88d-4ad4656258b7"
      },
      "execution_count": 14,
      "outputs": [
        {
          "output_type": "stream",
          "name": "stdout",
          "text": [
            "[[4 3 1]\n",
            " [4 3 4]\n",
            " [1 4 2]]\n",
            "[[2 2 2 1]\n",
            " [2 1 2 1]\n",
            " [1 0 2 0]]\n"
          ]
        }
      ]
    },
    {
      "cell_type": "code",
      "source": [
        "product = np.dot(matrix_3, matrix_4)\n",
        "print(product)"
      ],
      "metadata": {
        "colab": {
          "base_uri": "https://localhost:8080/"
        },
        "id": "Q_NlzppgK4x4",
        "outputId": "590cfc66-f1d5-4b8e-ef94-5293c9c87365"
      },
      "execution_count": 15,
      "outputs": [
        {
          "output_type": "stream",
          "name": "stdout",
          "text": [
            "[[15 11 16  7]\n",
            " [18 11 22  7]\n",
            " [12  6 14  5]]\n"
          ]
        }
      ]
    },
    {
      "cell_type": "code",
      "source": [
        "product.shape"
      ],
      "metadata": {
        "colab": {
          "base_uri": "https://localhost:8080/"
        },
        "id": "xY3vQqd4K9OL",
        "outputId": "6b98c174-07e9-42c1-c377-a66f8071c6c9"
      },
      "execution_count": 16,
      "outputs": [
        {
          "output_type": "execute_result",
          "data": {
            "text/plain": [
              "(3, 4)"
            ]
          },
          "metadata": {},
          "execution_count": 16
        }
      ]
    },
    {
      "cell_type": "markdown",
      "source": [
        "#Element wise Matrix Multiplication"
      ],
      "metadata": {
        "id": "Fij3Pyp6LEg1"
      }
    },
    {
      "cell_type": "code",
      "source": [
        "# create two matrices with random values\n",
        "matrix_3 = np.random.randint(5, size=(3,3))\n",
        "matrix_4 = np.random.randint(5, size=(3,3))\n",
        "print(matrix_3)\n",
        "print(matrix_4)"
      ],
      "metadata": {
        "colab": {
          "base_uri": "https://localhost:8080/"
        },
        "id": "t1MkwwgALAcM",
        "outputId": "b1e62e85-9b6d-4d8f-a438-81fc7790ee83"
      },
      "execution_count": 17,
      "outputs": [
        {
          "output_type": "stream",
          "name": "stdout",
          "text": [
            "[[4 3 2]\n",
            " [4 4 3]\n",
            " [1 1 2]]\n",
            "[[2 2 0]\n",
            " [1 1 4]\n",
            " [0 1 0]]\n"
          ]
        }
      ]
    },
    {
      "cell_type": "code",
      "source": [
        "product = np.multiply(matrix_3, matrix_4)\n",
        "print(product)"
      ],
      "metadata": {
        "colab": {
          "base_uri": "https://localhost:8080/"
        },
        "id": "kGL4NJ46LKTV",
        "outputId": "2a9ed901-05bd-4497-939b-4d3952e53362"
      },
      "execution_count": 18,
      "outputs": [
        {
          "output_type": "stream",
          "name": "stdout",
          "text": [
            "[[ 8  6  0]\n",
            " [ 4  4 12]\n",
            " [ 0  1  0]]\n"
          ]
        }
      ]
    },
    {
      "cell_type": "code",
      "source": [],
      "metadata": {
        "id": "PzYrNXgJLO1L"
      },
      "execution_count": null,
      "outputs": []
    }
  ]
}