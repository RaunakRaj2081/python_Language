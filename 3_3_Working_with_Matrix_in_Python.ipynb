{
  "nbformat": 4,
  "nbformat_minor": 0,
  "metadata": {
    "colab": {
      "provenance": [],
      "authorship_tag": "ABX9TyMlJdOCjALIC18f4f3shTFf",
      "include_colab_link": true
    },
    "kernelspec": {
      "name": "python3",
      "display_name": "Python 3"
    },
    "language_info": {
      "name": "python"
    }
  },
  "cells": [
    {
      "cell_type": "markdown",
      "metadata": {
        "id": "view-in-github",
        "colab_type": "text"
      },
      "source": [
        "<a href=\"https://colab.research.google.com/github/RaunakRaj2081/python_Language/blob/main/3_3_Working_with_Matrix_in_Python.ipynb\" target=\"_parent\"><img src=\"https://colab.research.google.com/assets/colab-badge.svg\" alt=\"Open In Colab\"/></a>"
      ]
    },
    {
      "cell_type": "code",
      "execution_count": 1,
      "metadata": {
        "id": "o1xRBIidAJWh"
      },
      "outputs": [],
      "source": [
        "import numpy as np"
      ]
    },
    {
      "cell_type": "markdown",
      "source": [
        "#Creating a Matrix using numpy"
      ],
      "metadata": {
        "id": "nSCo0vu-AYi2"
      }
    },
    {
      "cell_type": "code",
      "source": [
        "m1 = np.array([[3,4],[4,5],[7,8]])\n",
        "print(m1)"
      ],
      "metadata": {
        "colab": {
          "base_uri": "https://localhost:8080/"
        },
        "id": "oSh_2bfRAWJn",
        "outputId": "27bf0367-9c3a-46a7-9876-34c0c7513ef9"
      },
      "execution_count": 4,
      "outputs": [
        {
          "output_type": "stream",
          "name": "stdout",
          "text": [
            "[[3 4]\n",
            " [4 5]\n",
            " [7 8]]\n"
          ]
        }
      ]
    },
    {
      "cell_type": "code",
      "source": [
        "m1.shape"
      ],
      "metadata": {
        "colab": {
          "base_uri": "https://localhost:8080/"
        },
        "id": "7UxlKvtVAhYR",
        "outputId": "216fda81-f675-4e45-ec6b-74b2c0821097"
      },
      "execution_count": 5,
      "outputs": [
        {
          "output_type": "execute_result",
          "data": {
            "text/plain": [
              "(3, 2)"
            ]
          },
          "metadata": {},
          "execution_count": 5
        }
      ]
    },
    {
      "cell_type": "markdown",
      "source": [
        "#Creating Matrices with Random Values"
      ],
      "metadata": {
        "id": "KVf1JNgtAygN"
      }
    },
    {
      "cell_type": "code",
      "source": [
        "m = np.random.rand(4,5)\n",
        "print(m)"
      ],
      "metadata": {
        "colab": {
          "base_uri": "https://localhost:8080/"
        },
        "id": "5YOfZndnAuJc",
        "outputId": "94725461-fe55-4412-d8fa-fc10d4c9cab8"
      },
      "execution_count": 6,
      "outputs": [
        {
          "output_type": "stream",
          "name": "stdout",
          "text": [
            "[[0.61449013 0.341386   0.07528017 0.23388039 0.58873809]\n",
            " [0.63257944 0.4152803  0.68465796 0.47035908 0.45035869]\n",
            " [0.89937648 0.62882215 0.66788526 0.99361719 0.92025429]\n",
            " [0.25944167 0.7143445  0.44403039 0.17480181 0.37105981]]\n"
          ]
        }
      ]
    },
    {
      "cell_type": "code",
      "source": [
        "# creating matrix with random integers\n",
        "n = np.random.randint(20,100 , size= (5,6))\n",
        "print(n)"
      ],
      "metadata": {
        "colab": {
          "base_uri": "https://localhost:8080/"
        },
        "id": "JzNoi3dTA3pv",
        "outputId": "58395d6f-d5f2-4644-a8df-d0ddc5d87187"
      },
      "execution_count": 15,
      "outputs": [
        {
          "output_type": "stream",
          "name": "stdout",
          "text": [
            "[[23 81 22 45 98 53]\n",
            " [28 87 66 38 70 82]\n",
            " [35 31 67 35 81 30]\n",
            " [56 81 39 30 36 43]\n",
            " [69 54 75 20 39 51]]\n"
          ]
        }
      ]
    },
    {
      "cell_type": "markdown",
      "source": [
        "#Matrix with all the values as 1"
      ],
      "metadata": {
        "id": "-poeEwIACH6n"
      }
    },
    {
      "cell_type": "code",
      "source": [
        "matrix_3 = np.ones((2,3))\n",
        "print(matrix_3)"
      ],
      "metadata": {
        "colab": {
          "base_uri": "https://localhost:8080/"
        },
        "id": "V4rdEd7dBBep",
        "outputId": "e07f7560-043b-4892-c057-792a361ed984"
      },
      "execution_count": 19,
      "outputs": [
        {
          "output_type": "stream",
          "name": "stdout",
          "text": [
            "[[1. 1. 1.]\n",
            " [1. 1. 1.]]\n"
          ]
        }
      ]
    },
    {
      "cell_type": "code",
      "source": [
        "matrix_3 = np.ones((2,3), dtype=int)\n",
        "print(matrix_3)"
      ],
      "metadata": {
        "colab": {
          "base_uri": "https://localhost:8080/"
        },
        "id": "aSWve8nJB43v",
        "outputId": "19b3287b-9885-47aa-f94b-19e0c0578ada"
      },
      "execution_count": 20,
      "outputs": [
        {
          "output_type": "stream",
          "name": "stdout",
          "text": [
            "[[1 1 1]\n",
            " [1 1 1]]\n"
          ]
        }
      ]
    },
    {
      "cell_type": "markdown",
      "source": [
        "#Null Matrix or Zero Matrix"
      ],
      "metadata": {
        "id": "fcXcivONCQ6B"
      }
    },
    {
      "cell_type": "code",
      "source": [
        "null_matrix = np.zeros((4,4) , dtype = int)\n",
        "print(null_matrix)"
      ],
      "metadata": {
        "colab": {
          "base_uri": "https://localhost:8080/"
        },
        "id": "DBOOVJYfCOwz",
        "outputId": "fdb3e827-8084-40a2-b21a-130a7f622ff1"
      },
      "execution_count": 22,
      "outputs": [
        {
          "output_type": "stream",
          "name": "stdout",
          "text": [
            "[[0 0 0 0]\n",
            " [0 0 0 0]\n",
            " [0 0 0 0]\n",
            " [0 0 0 0]]\n"
          ]
        }
      ]
    },
    {
      "cell_type": "markdown",
      "source": [
        "#Identity Matrix"
      ],
      "metadata": {
        "id": "G_fu_EKRCb6g"
      }
    },
    {
      "cell_type": "code",
      "source": [
        "identity_matrix = np.eye(3,3)\n",
        "print(identity_matrix)"
      ],
      "metadata": {
        "colab": {
          "base_uri": "https://localhost:8080/"
        },
        "id": "rd5f1jRyCTsD",
        "outputId": "5d1f9803-c8a7-416a-ee0d-ff945f14939c"
      },
      "execution_count": 23,
      "outputs": [
        {
          "output_type": "stream",
          "name": "stdout",
          "text": [
            "[[1. 0. 0.]\n",
            " [0. 1. 0.]\n",
            " [0. 0. 1.]]\n"
          ]
        }
      ]
    },
    {
      "cell_type": "code",
      "source": [
        "identity_matrix1 = np.eye(3,3 , dtype = int)\n",
        "print(identity_matrix1)"
      ],
      "metadata": {
        "colab": {
          "base_uri": "https://localhost:8080/"
        },
        "id": "IIghihkYCe9A",
        "outputId": "9e8d920b-9e0b-4078-e0d5-8b8caf1a0790"
      },
      "execution_count": 24,
      "outputs": [
        {
          "output_type": "stream",
          "name": "stdout",
          "text": [
            "[[1 0 0]\n",
            " [0 1 0]\n",
            " [0 0 1]]\n"
          ]
        }
      ]
    },
    {
      "cell_type": "markdown",
      "source": [
        "#Transpose of a Matrix"
      ],
      "metadata": {
        "id": "t3PzW-6aCly7"
      }
    },
    {
      "cell_type": "code",
      "source": [
        "# matrix with random integer values\n",
        "a = np.random.randint(100, size=(4,5))\n",
        "print(a)"
      ],
      "metadata": {
        "colab": {
          "base_uri": "https://localhost:8080/"
        },
        "id": "epKcT-lkCjc1",
        "outputId": "0da9089d-636f-4331-89b7-be3aee587c65"
      },
      "execution_count": 25,
      "outputs": [
        {
          "output_type": "stream",
          "name": "stdout",
          "text": [
            "[[99 93 35 43 16]\n",
            " [94 69 84 94 99]\n",
            " [36 91  8 79 83]\n",
            " [40 66 48 38 61]]\n"
          ]
        }
      ]
    },
    {
      "cell_type": "code",
      "source": [
        "transpose_of_a = np.transpose(a)\n",
        "print(transpose_of_a)"
      ],
      "metadata": {
        "colab": {
          "base_uri": "https://localhost:8080/"
        },
        "id": "w2KLa7BhCpL6",
        "outputId": "1605739d-10d8-42b8-e123-30bf329fdda6"
      },
      "execution_count": 26,
      "outputs": [
        {
          "output_type": "stream",
          "name": "stdout",
          "text": [
            "[[99 94 36 40]\n",
            " [93 69 91 66]\n",
            " [35 84  8 48]\n",
            " [43 94 79 38]\n",
            " [16 99 83 61]]\n"
          ]
        }
      ]
    },
    {
      "cell_type": "code",
      "source": [],
      "metadata": {
        "id": "ZwdWwf9ICsOx"
      },
      "execution_count": null,
      "outputs": []
    }
  ]
}