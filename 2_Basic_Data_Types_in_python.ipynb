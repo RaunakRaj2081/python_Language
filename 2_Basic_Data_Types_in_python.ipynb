{
  "nbformat": 4,
  "nbformat_minor": 0,
  "metadata": {
    "colab": {
      "provenance": [],
      "authorship_tag": "ABX9TyP+KsgSBr+4Qr9RWNbUKNPr",
      "include_colab_link": true
    },
    "kernelspec": {
      "name": "python3",
      "display_name": "Python 3"
    },
    "language_info": {
      "name": "python"
    }
  },
  "cells": [
    {
      "cell_type": "markdown",
      "metadata": {
        "id": "view-in-github",
        "colab_type": "text"
      },
      "source": [
        "<a href=\"https://colab.research.google.com/github/RaunakRaj2081/python_Language/blob/main/2_Basic_Data_Types_in_python.ipynb\" target=\"_parent\"><img src=\"https://colab.research.google.com/assets/colab-badge.svg\" alt=\"Open In Colab\"/></a>"
      ]
    },
    {
      "cell_type": "markdown",
      "source": [
        "#data types in python\n",
        "1.integer\n",
        "2.floating point\n",
        "3.complex\n",
        "4.boolean\n",
        "5.string"
      ],
      "metadata": {
        "id": "FF4_nAjevMKZ"
      }
    },
    {
      "cell_type": "markdown",
      "source": [
        "# 1. integer"
      ],
      "metadata": {
        "id": "uDp1Modjvudu"
      }
    },
    {
      "cell_type": "code",
      "execution_count": 2,
      "metadata": {
        "id": "zkFuD2u2J3kA",
        "colab": {
          "base_uri": "https://localhost:8080/"
        },
        "outputId": "c08a7e82-6aa2-40c6-ceaa-4fdef1259ead"
      },
      "outputs": [
        {
          "output_type": "stream",
          "name": "stdout",
          "text": [
            "5\n"
          ]
        },
        {
          "output_type": "execute_result",
          "data": {
            "text/plain": [
              "int"
            ]
          },
          "metadata": {},
          "execution_count": 2
        }
      ],
      "source": [
        "a = 5\n",
        "print(a)\n",
        "type(a)"
      ]
    },
    {
      "cell_type": "markdown",
      "source": [
        "# 2. floating point"
      ],
      "metadata": {
        "id": "Tn54KobFv14P"
      }
    },
    {
      "cell_type": "code",
      "source": [
        "a = 5.6\n",
        "print(a)\n",
        "type(a)"
      ],
      "metadata": {
        "colab": {
          "base_uri": "https://localhost:8080/"
        },
        "id": "SPZHd98Yv9S7",
        "outputId": "53a8ee23-2bdd-401e-cf0c-e1923dbea24d"
      },
      "execution_count": 3,
      "outputs": [
        {
          "output_type": "stream",
          "name": "stdout",
          "text": [
            "5.6\n"
          ]
        },
        {
          "output_type": "execute_result",
          "data": {
            "text/plain": [
              "float"
            ]
          },
          "metadata": {},
          "execution_count": 3
        }
      ]
    },
    {
      "cell_type": "markdown",
      "source": [
        "# 3. complex number"
      ],
      "metadata": {
        "id": "il5YLTTZwCjZ"
      }
    },
    {
      "cell_type": "code",
      "source": [
        "a = 1 + 5j\n",
        "print(a)\n",
        "type(a)"
      ],
      "metadata": {
        "colab": {
          "base_uri": "https://localhost:8080/"
        },
        "id": "YVw1yy90wBa0",
        "outputId": "23a5901a-e45f-4b61-dd75-09ab35d2a851"
      },
      "execution_count": 4,
      "outputs": [
        {
          "output_type": "stream",
          "name": "stdout",
          "text": [
            "(1+5j)\n"
          ]
        },
        {
          "output_type": "execute_result",
          "data": {
            "text/plain": [
              "complex"
            ]
          },
          "metadata": {},
          "execution_count": 4
        }
      ]
    },
    {
      "cell_type": "markdown",
      "source": [
        "# conversion of one data type to another"
      ],
      "metadata": {
        "id": "EPehauGpwKzV"
      }
    },
    {
      "cell_type": "code",
      "source": [
        "# int to flaoat\n",
        "x = 5\n",
        "print(x)\n",
        "type(x)\n",
        "\n",
        "y = float(x)\n",
        "print(y)\n",
        "type(y)"
      ],
      "metadata": {
        "colab": {
          "base_uri": "https://localhost:8080/"
        },
        "id": "bjk5PP59wJBR",
        "outputId": "f1709ddf-cd37-445e-b632-8e9dfc9506bc"
      },
      "execution_count": 9,
      "outputs": [
        {
          "output_type": "stream",
          "name": "stdout",
          "text": [
            "5\n",
            "5.0\n"
          ]
        },
        {
          "output_type": "execute_result",
          "data": {
            "text/plain": [
              "float"
            ]
          },
          "metadata": {},
          "execution_count": 9
        }
      ]
    },
    {
      "cell_type": "code",
      "source": [
        "#float to int\n",
        "x = 5.6\n",
        "print(x)\n",
        "type(x)\n",
        "\n",
        "y = int(x)\n",
        "print(y)\n",
        "type(y)\n"
      ],
      "metadata": {
        "colab": {
          "base_uri": "https://localhost:8080/"
        },
        "id": "9bdT4-Bmw1BQ",
        "outputId": "8b4c4dc9-f4c1-4374-be2e-23ab3c3aeada"
      },
      "execution_count": 10,
      "outputs": [
        {
          "output_type": "stream",
          "name": "stdout",
          "text": [
            "5.6\n",
            "5\n"
          ]
        },
        {
          "output_type": "execute_result",
          "data": {
            "text/plain": [
              "int"
            ]
          },
          "metadata": {},
          "execution_count": 10
        }
      ]
    },
    {
      "cell_type": "markdown",
      "source": [
        "# 4. Boolean"
      ],
      "metadata": {
        "id": "BYw8Q6umxt5H"
      }
    },
    {
      "cell_type": "code",
      "source": [
        "x = True\n",
        "type(x)\n",
        "print(x)"
      ],
      "metadata": {
        "colab": {
          "base_uri": "https://localhost:8080/"
        },
        "id": "AqnP3o6mxchP",
        "outputId": "f3b0673a-9940-45ed-c0b0-9d11275c5b7e"
      },
      "execution_count": 19,
      "outputs": [
        {
          "output_type": "stream",
          "name": "stdout",
          "text": [
            "True\n"
          ]
        }
      ]
    },
    {
      "cell_type": "code",
      "source": [
        "b = False\n",
        "type(b)\n",
        "print(b)"
      ],
      "metadata": {
        "colab": {
          "base_uri": "https://localhost:8080/"
        },
        "id": "613p9cv1x1gY",
        "outputId": "151dfa57-6969-4c17-b7d4-4c15dd185c60"
      },
      "execution_count": 20,
      "outputs": [
        {
          "output_type": "stream",
          "name": "stdout",
          "text": [
            "False\n"
          ]
        }
      ]
    },
    {
      "cell_type": "code",
      "source": [
        " a = 7 > 3\n",
        " print(a)"
      ],
      "metadata": {
        "colab": {
          "base_uri": "https://localhost:8080/"
        },
        "id": "jN88zCsZyOHE",
        "outputId": "2b711716-a918-4e78-8f28-98cf751bfb57"
      },
      "execution_count": 24,
      "outputs": [
        {
          "output_type": "stream",
          "name": "stdout",
          "text": [
            "True\n"
          ]
        }
      ]
    },
    {
      "cell_type": "code",
      "source": [
        "a = 7 < 3\n",
        "print(a)"
      ],
      "metadata": {
        "colab": {
          "base_uri": "https://localhost:8080/"
        },
        "id": "opLE4orMzFEa",
        "outputId": "5166d8da-9be4-4c9c-ca60-8d6ed082882c"
      },
      "execution_count": 23,
      "outputs": [
        {
          "output_type": "stream",
          "name": "stdout",
          "text": [
            "False\n"
          ]
        }
      ]
    },
    {
      "cell_type": "markdown",
      "source": [
        "# 5. Strings"
      ],
      "metadata": {
        "id": "vFpwKxHIzUdQ"
      }
    },
    {
      "cell_type": "code",
      "source": [
        "mt = \"hello\"\n",
        "print(mt)\n",
        "type(mt)"
      ],
      "metadata": {
        "colab": {
          "base_uri": "https://localhost:8080/"
        },
        "id": "u1EIO5xczRVX",
        "outputId": "7341c0dd-d7e2-4d68-98ce-5f8ae2e7023a"
      },
      "execution_count": 25,
      "outputs": [
        {
          "output_type": "stream",
          "name": "stdout",
          "text": [
            "hello\n"
          ]
        },
        {
          "output_type": "execute_result",
          "data": {
            "text/plain": [
              "str"
            ]
          },
          "metadata": {},
          "execution_count": 25
        }
      ]
    },
    {
      "cell_type": "code",
      "source": [
        "print(mt*5)"
      ],
      "metadata": {
        "colab": {
          "base_uri": "https://localhost:8080/"
        },
        "id": "k1_5Oni5zzDW",
        "outputId": "12e65601-0b6c-46ab-fff8-933ab4c49992"
      },
      "execution_count": 26,
      "outputs": [
        {
          "output_type": "stream",
          "name": "stdout",
          "text": [
            "hellohellohellohellohello\n"
          ]
        }
      ]
    },
    {
      "cell_type": "markdown",
      "source": [
        "slicing"
      ],
      "metadata": {
        "id": "zh4FH9-D0cyN"
      }
    },
    {
      "cell_type": "code",
      "source": [
        "name = \"raunakraj\"\n",
        "print(name[1:5])  # where index 1 is inclusive and 5 is exclusive"
      ],
      "metadata": {
        "colab": {
          "base_uri": "https://localhost:8080/"
        },
        "id": "4CGgSKfN0XYJ",
        "outputId": "65cd1419-f09e-4865-d5d9-0df324e9538c"
      },
      "execution_count": 29,
      "outputs": [
        {
          "output_type": "stream",
          "name": "stdout",
          "text": [
            "auna\n"
          ]
        }
      ]
    },
    {
      "cell_type": "code",
      "source": [
        "# slicing by steps\n",
        "print(name[0:8:2])  # at an interval of 2 steps , 0 included and 8 not"
      ],
      "metadata": {
        "colab": {
          "base_uri": "https://localhost:8080/"
        },
        "id": "w44ymo_o0w6e",
        "outputId": "14c48737-0230-4ac8-c9d6-57b6698d0e4e"
      },
      "execution_count": 30,
      "outputs": [
        {
          "output_type": "stream",
          "name": "stdout",
          "text": [
            "ruar\n"
          ]
        }
      ]
    },
    {
      "cell_type": "markdown",
      "source": [
        "string concatenation"
      ],
      "metadata": {
        "id": "jUh3oSes1qcD"
      }
    },
    {
      "cell_type": "code",
      "source": [
        "w1 = \"raunak \"\n",
        "w2 = \"raj\"\n",
        "print(w1+w2)"
      ],
      "metadata": {
        "colab": {
          "base_uri": "https://localhost:8080/"
        },
        "id": "PbjwNv7Z1PrX",
        "outputId": "e6701dff-2d79-47a9-9f4c-444c47ede1ab"
      },
      "execution_count": 33,
      "outputs": [
        {
          "output_type": "stream",
          "name": "stdout",
          "text": [
            "raunak raj\n"
          ]
        }
      ]
    }
  ]
}