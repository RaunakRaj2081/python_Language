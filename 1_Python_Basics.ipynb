{
  "nbformat": 4,
  "nbformat_minor": 0,
  "metadata": {
    "colab": {
      "provenance": [],
      "collapsed_sections": [
        "8M5WZue4CnRq",
        "1-U4qVq1DU9C"
      ],
      "authorship_tag": "ABX9TyP32CNBPe0jFiHuPZJv14JP",
      "include_colab_link": true
    },
    "kernelspec": {
      "name": "python3",
      "display_name": "Python 3"
    },
    "language_info": {
      "name": "python"
    }
  },
  "cells": [
    {
      "cell_type": "markdown",
      "metadata": {
        "id": "view-in-github",
        "colab_type": "text"
      },
      "source": [
        "<a href=\"https://colab.research.google.com/github/RaunakRaj2081/python_Language/blob/main/1_Python_Basics.ipynb\" target=\"_parent\"><img src=\"https://colab.research.google.com/assets/colab-badge.svg\" alt=\"Open In Colab\"/></a>"
      ]
    },
    {
      "cell_type": "markdown",
      "source": [
        "#print function"
      ],
      "metadata": {
        "id": "8M5WZue4CnRq"
      }
    },
    {
      "cell_type": "code",
      "execution_count": 4,
      "metadata": {
        "id": "3khOJb2K08pG",
        "colab": {
          "base_uri": "https://localhost:8080/"
        },
        "outputId": "b027f249-02e3-45b0-ff48-5db2c96e38f2"
      },
      "outputs": [
        {
          "output_type": "stream",
          "name": "stdout",
          "text": [
            "machine learning\n"
          ]
        }
      ],
      "source": [
        "print(\"machine learning\")  # we can use single as well as double quotes"
      ]
    },
    {
      "cell_type": "code",
      "source": [
        "print(\"machine learning\" + \" projects\")"
      ],
      "metadata": {
        "colab": {
          "base_uri": "https://localhost:8080/"
        },
        "id": "V-sXRdEBCgOf",
        "outputId": "b1c99753-c762-4b74-e3eb-105bf89d981b"
      },
      "execution_count": 5,
      "outputs": [
        {
          "output_type": "stream",
          "name": "stdout",
          "text": [
            "machine learning projects\n"
          ]
        }
      ]
    },
    {
      "cell_type": "code",
      "source": [
        "print(5)"
      ],
      "metadata": {
        "colab": {
          "base_uri": "https://localhost:8080/"
        },
        "id": "SO-tyvFgC7et",
        "outputId": "74436c53-eaaf-495e-8e9d-f56fc841f229"
      },
      "execution_count": 6,
      "outputs": [
        {
          "output_type": "stream",
          "name": "stdout",
          "text": [
            "5\n"
          ]
        }
      ]
    },
    {
      "cell_type": "code",
      "source": [
        "print(3 + 9)"
      ],
      "metadata": {
        "colab": {
          "base_uri": "https://localhost:8080/"
        },
        "id": "BZHjHnI5C9Ck",
        "outputId": "6a0e9c61-b7ad-4a73-d1ca-d9a108aeb316"
      },
      "execution_count": 7,
      "outputs": [
        {
          "output_type": "stream",
          "name": "stdout",
          "text": [
            "12\n"
          ]
        }
      ]
    },
    {
      "cell_type": "markdown",
      "source": [
        "#Basic data types\n",
        "\n",
        "\n",
        "*   int\n",
        "*   float\n",
        "*   str\n",
        "\n",
        "\n",
        "\n"
      ],
      "metadata": {
        "id": "1-U4qVq1DU9C"
      }
    },
    {
      "cell_type": "code",
      "source": [
        "type(8)"
      ],
      "metadata": {
        "colab": {
          "base_uri": "https://localhost:8080/"
        },
        "id": "9AvkqQaCC_af",
        "outputId": "f9d90ca5-21db-495b-8e05-d88c854bdac4"
      },
      "execution_count": 8,
      "outputs": [
        {
          "output_type": "execute_result",
          "data": {
            "text/plain": [
              "int"
            ]
          },
          "metadata": {},
          "execution_count": 8
        }
      ]
    },
    {
      "cell_type": "code",
      "source": [
        "type(9.0)"
      ],
      "metadata": {
        "colab": {
          "base_uri": "https://localhost:8080/"
        },
        "id": "5wn5J7VBDu_y",
        "outputId": "83dff07b-7d6d-414c-d530-1e6a447e2e0d"
      },
      "execution_count": 9,
      "outputs": [
        {
          "output_type": "execute_result",
          "data": {
            "text/plain": [
              "float"
            ]
          },
          "metadata": {},
          "execution_count": 9
        }
      ]
    },
    {
      "cell_type": "code",
      "source": [
        "type(\"Raunak\")"
      ],
      "metadata": {
        "colab": {
          "base_uri": "https://localhost:8080/"
        },
        "id": "TLEHypTBDwiC",
        "outputId": "357615a6-0b49-4ce6-8607-229488e95091"
      },
      "execution_count": 10,
      "outputs": [
        {
          "output_type": "execute_result",
          "data": {
            "text/plain": [
              "str"
            ]
          },
          "metadata": {},
          "execution_count": 10
        }
      ]
    },
    {
      "cell_type": "markdown",
      "source": [
        "#constants and variables"
      ],
      "metadata": {
        "id": "8MIeYQ_IEJUa"
      }
    },
    {
      "cell_type": "code",
      "source": [
        "name = \"Raunak\"\n",
        "print(name)"
      ],
      "metadata": {
        "colab": {
          "base_uri": "https://localhost:8080/"
        },
        "id": "PcC3qS0xDzs1",
        "outputId": "6c668e79-fff6-42e0-a95e-afcd00576172"
      },
      "execution_count": 11,
      "outputs": [
        {
          "output_type": "stream",
          "name": "stdout",
          "text": [
            "Raunak\n"
          ]
        }
      ]
    },
    {
      "cell_type": "code",
      "source": [
        "name = \"Raunak Raj\"\n",
        "print(name)"
      ],
      "metadata": {
        "colab": {
          "base_uri": "https://localhost:8080/"
        },
        "id": "h1G8xNHSE7MN",
        "outputId": "5366319b-780e-410e-b9b7-506cf4fce9d5"
      },
      "execution_count": 12,
      "outputs": [
        {
          "output_type": "stream",
          "name": "stdout",
          "text": [
            "Raunak Raj\n"
          ]
        }
      ]
    },
    {
      "cell_type": "code",
      "source": [
        "n1 , n2 , n3 = \"ram\" , \"mohan\" , \"sohan\"\n",
        "print(n1)\n",
        "print(n2)\n",
        "print(n3)"
      ],
      "metadata": {
        "colab": {
          "base_uri": "https://localhost:8080/"
        },
        "id": "tMN-vaalE_Vc",
        "outputId": "270c542e-8331-46b3-94fc-c89a42d7e6cf"
      },
      "execution_count": 16,
      "outputs": [
        {
          "output_type": "stream",
          "name": "stdout",
          "text": [
            "ram\n",
            "mohan\n",
            "sohan\n"
          ]
        }
      ]
    },
    {
      "cell_type": "code",
      "source": [
        "#assinging multiple variables same value\n",
        "#pyton is case-sensitive\n",
        "\n",
        "x = y = z = 45\n",
        "print(x)\n",
        "print(y)\n",
        "print(z)"
      ],
      "metadata": {
        "colab": {
          "base_uri": "https://localhost:8080/"
        },
        "id": "JddsqiixFMXj",
        "outputId": "d7fa8add-1dc1-490d-dd46-5a71010cc0bb"
      },
      "execution_count": 17,
      "outputs": [
        {
          "output_type": "stream",
          "name": "stdout",
          "text": [
            "45\n",
            "45\n",
            "45\n"
          ]
        }
      ]
    },
    {
      "cell_type": "code",
      "source": [
        "# In Python, there's no built-in const keyword like in C++ or Java.\n",
        "#However, by convention, we create constants using uppercase variable names, and we avoid changing them in the code.\n",
        "\n",
        "NAME = \"raunak\"\n",
        "print(NAME)"
      ],
      "metadata": {
        "colab": {
          "base_uri": "https://localhost:8080/"
        },
        "id": "-WiR0CCRIs09",
        "outputId": "b309a6f3-355e-4530-c3b8-b76adb4909fe"
      },
      "execution_count": 24,
      "outputs": [
        {
          "output_type": "stream",
          "name": "stdout",
          "text": [
            "raunak\n"
          ]
        }
      ]
    },
    {
      "cell_type": "markdown",
      "source": [
        "#input function"
      ],
      "metadata": {
        "id": "g9ThUqI7G_z_"
      }
    },
    {
      "cell_type": "code",
      "source": [
        "n1 = input(\"Enter the first no.: \")\n",
        "n2 = input(\"Enter the second no.: \")\n",
        "sum = n1 + n2\n",
        "print(sum) # it will concatenate it , because input function takes value as strings"
      ],
      "metadata": {
        "colab": {
          "base_uri": "https://localhost:8080/"
        },
        "id": "1qetdX_sGI8W",
        "outputId": "a40b87ab-5118-46c4-fd3d-7199c995ebb6"
      },
      "execution_count": 18,
      "outputs": [
        {
          "output_type": "stream",
          "name": "stdout",
          "text": [
            "Enter the first no.: 12\n",
            "Enter the second no.: 18\n",
            "1218\n"
          ]
        }
      ]
    },
    {
      "cell_type": "code",
      "source": [
        "# now we have to convert it in int\n",
        "n1 = int(input(\"Enter the first no.: \"))\n",
        "n2 = int(input(\"Enter the second no.: \"))\n",
        "sum = n1 + n2\n",
        "print(sum)"
      ],
      "metadata": {
        "colab": {
          "base_uri": "https://localhost:8080/"
        },
        "id": "LsYK6uFfHZqm",
        "outputId": "72a2c349-0b7b-4252-aaf5-abeceaa1b3a5"
      },
      "execution_count": 19,
      "outputs": [
        {
          "output_type": "stream",
          "name": "stdout",
          "text": [
            "Enter the first no.: 12\n",
            "Enter the second no.: 18\n",
            "30\n"
          ]
        }
      ]
    },
    {
      "cell_type": "code",
      "source": [
        "# changing the data type in python\n",
        "num = 40\n",
        "print(float(num))"
      ],
      "metadata": {
        "colab": {
          "base_uri": "https://localhost:8080/"
        },
        "id": "KZiM3glXHnxw",
        "outputId": "794a6477-681a-4663-cbfc-6f45f5cac837"
      },
      "execution_count": 20,
      "outputs": [
        {
          "output_type": "stream",
          "name": "stdout",
          "text": [
            "40.0\n"
          ]
        }
      ]
    },
    {
      "cell_type": "code",
      "source": [],
      "metadata": {
        "id": "0XQX8mOKICcm"
      },
      "execution_count": null,
      "outputs": []
    }
  ]
}