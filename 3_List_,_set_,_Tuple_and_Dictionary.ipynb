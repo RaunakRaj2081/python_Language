{
  "nbformat": 4,
  "nbformat_minor": 0,
  "metadata": {
    "colab": {
      "provenance": [],
      "authorship_tag": "ABX9TyM4wXDd/y/TE8F+Sy95ukBR",
      "include_colab_link": true
    },
    "kernelspec": {
      "name": "python3",
      "display_name": "Python 3"
    },
    "language_info": {
      "name": "python"
    }
  },
  "cells": [
    {
      "cell_type": "markdown",
      "metadata": {
        "id": "view-in-github",
        "colab_type": "text"
      },
      "source": [
        "<a href=\"https://colab.research.google.com/github/RaunakRaj2081/python_Language/blob/main/3_List_%2C_set_%2C_Tuple_and_Dictionary.ipynb\" target=\"_parent\"><img src=\"https://colab.research.google.com/assets/colab-badge.svg\" alt=\"Open In Colab\"/></a>"
      ]
    },
    {
      "cell_type": "markdown",
      "source": [
        "# List"
      ],
      "metadata": {
        "id": "9NkHZJikGZB-"
      }
    },
    {
      "cell_type": "code",
      "execution_count": null,
      "metadata": {
        "id": "1m10fx_v2c5T",
        "colab": {
          "base_uri": "https://localhost:8080/"
        },
        "outputId": "ab00b57a-e8f9-4a3b-876a-597dd2be86ce"
      },
      "outputs": [
        {
          "output_type": "stream",
          "name": "stdout",
          "text": [
            "[1, 2, 3, 4, 5]\n"
          ]
        },
        {
          "output_type": "execute_result",
          "data": {
            "text/plain": [
              "list"
            ]
          },
          "metadata": {},
          "execution_count": 4
        }
      ],
      "source": [
        "# list should be included in the square bracket\n",
        "list1 = [1,2,3,4,5]\n",
        "print(list1)\n",
        "type(list1)"
      ]
    },
    {
      "cell_type": "code",
      "source": [
        "# list can have multiple data types\n",
        "list2 = [1 , 2.5 , \"raunak\" , True]\n",
        "print(list2)"
      ],
      "metadata": {
        "colab": {
          "base_uri": "https://localhost:8080/"
        },
        "id": "PJlMgB1PGjD5",
        "outputId": "e8a67955-6eac-4e1f-b119-1ad80e9a6a17"
      },
      "execution_count": null,
      "outputs": [
        {
          "output_type": "stream",
          "name": "stdout",
          "text": [
            "[1, 2.5, 'raunak', True]\n"
          ]
        }
      ]
    },
    {
      "cell_type": "markdown",
      "source": [
        "lists ara mutable"
      ],
      "metadata": {
        "id": "qZ7uzExqHTH7"
      }
    },
    {
      "cell_type": "code",
      "source": [
        "# adding elements to a list\n",
        "list2 = [1 , 2.5 , \"raunak\" , True]\n",
        "print(list2)\n",
        "list2.append(6)\n",
        "list2[1] = 3.5\n",
        "print(list2)"
      ],
      "metadata": {
        "colab": {
          "base_uri": "https://localhost:8080/"
        },
        "id": "eiMRuhmdG8WF",
        "outputId": "c02d6b7c-bef4-46d5-a1d1-83660dd55a2b"
      },
      "execution_count": null,
      "outputs": [
        {
          "output_type": "stream",
          "name": "stdout",
          "text": [
            "[1, 2.5, 'raunak', True]\n",
            "[1, 3.5, 'raunak', True, 6]\n"
          ]
        }
      ]
    },
    {
      "cell_type": "code",
      "source": [
        "# printing elements of list using index\n",
        "print(list2[2])\n",
        "print(list2[3])"
      ],
      "metadata": {
        "colab": {
          "base_uri": "https://localhost:8080/"
        },
        "id": "ERLXc4HJHcd2",
        "outputId": "0153479d-22a4-4aa5-dd07-9c7c1a2705c7"
      },
      "execution_count": null,
      "outputs": [
        {
          "output_type": "stream",
          "name": "stdout",
          "text": [
            "raunak\n",
            "True\n"
          ]
        }
      ]
    },
    {
      "cell_type": "code",
      "source": [
        "# list allows duplicate values\n",
        "list3 = [1 , 2.5 , \"raunak\" , True , 1 , 2.5 , \"raunak\" , True]\n",
        "print(list3)"
      ],
      "metadata": {
        "colab": {
          "base_uri": "https://localhost:8080/"
        },
        "id": "wDP_g7uMIZvj",
        "outputId": "e7ac3a5e-b906-4520-8e90-ef17972b21dc"
      },
      "execution_count": null,
      "outputs": [
        {
          "output_type": "stream",
          "name": "stdout",
          "text": [
            "[1, 2.5, 'raunak', True, 1, 2.5, 'raunak', True]\n"
          ]
        }
      ]
    },
    {
      "cell_type": "code",
      "source": [
        "# getting the length of list\n",
        "print(len(list3))"
      ],
      "metadata": {
        "colab": {
          "base_uri": "https://localhost:8080/"
        },
        "id": "3ofKWNNHIgzx",
        "outputId": "97979050-7ccf-4d96-9e69-6be87e884cbc"
      },
      "execution_count": null,
      "outputs": [
        {
          "output_type": "stream",
          "name": "stdout",
          "text": [
            "8\n"
          ]
        }
      ]
    },
    {
      "cell_type": "code",
      "source": [
        "# initializing an empty list\n",
        "list4 = []\n",
        "print(list4)"
      ],
      "metadata": {
        "colab": {
          "base_uri": "https://localhost:8080/"
        },
        "id": "z8HvgKmaImIe",
        "outputId": "84fa343a-35f1-46f1-ab59-3d4f32a3b5c4"
      },
      "execution_count": null,
      "outputs": [
        {
          "output_type": "stream",
          "name": "stdout",
          "text": [
            "[]\n"
          ]
        }
      ]
    },
    {
      "cell_type": "code",
      "source": [
        "# delete element from list\n",
        "list5 = [1 , 2 , \"eesd\", 4.5 , False]\n",
        "print(list5)\n",
        "del list5[3]\n",
        "print(list5)"
      ],
      "metadata": {
        "colab": {
          "base_uri": "https://localhost:8080/"
        },
        "id": "RwdhlytyJJix",
        "outputId": "894b8afd-29df-44c6-f34f-5547095203b9"
      },
      "execution_count": null,
      "outputs": [
        {
          "output_type": "stream",
          "name": "stdout",
          "text": [
            "[1, 2, 'eesd', 4.5, False]\n",
            "[1, 2, 'eesd', False]\n"
          ]
        }
      ]
    },
    {
      "cell_type": "code",
      "source": [
        "# join two lists\n",
        "list6 = [1 , 2 , 3 , 4]\n",
        "list7 = [5 , 6 , 7 , 8]\n",
        "list8 = list6 + list7\n",
        "print(list8)"
      ],
      "metadata": {
        "colab": {
          "base_uri": "https://localhost:8080/"
        },
        "id": "Wh2s9SpuJeUk",
        "outputId": "cbd2cf5a-703e-48ea-e67b-d3971f73b2ee"
      },
      "execution_count": null,
      "outputs": [
        {
          "output_type": "stream",
          "name": "stdout",
          "text": [
            "[1, 2, 3, 4, 5, 6, 7, 8]\n"
          ]
        }
      ]
    },
    {
      "cell_type": "markdown",
      "source": [
        "# Tuple"
      ],
      "metadata": {
        "id": "FswR0DF7J_jd"
      }
    },
    {
      "cell_type": "code",
      "source": [
        "# tuples are immutable\n",
        "t1 = (1 , 2 , 3 , 4)\n",
        "print(t1)\n",
        "type(t1)"
      ],
      "metadata": {
        "id": "LqEtGif7J6Wz",
        "colab": {
          "base_uri": "https://localhost:8080/"
        },
        "outputId": "dc301de8-6f41-432a-d439-d0900faea1ae"
      },
      "execution_count": 2,
      "outputs": [
        {
          "output_type": "stream",
          "name": "stdout",
          "text": [
            "(1, 2, 3, 4)\n"
          ]
        },
        {
          "output_type": "execute_result",
          "data": {
            "text/plain": [
              "tuple"
            ]
          },
          "metadata": {},
          "execution_count": 2
        }
      ]
    },
    {
      "cell_type": "code",
      "source": [
        "# tuples also allow multiple data types\n",
        "# tuples allow duplicate values\n",
        "t2 = (1 , 2.5 , \"raunak\" , True , 2.5)\n",
        "print(t2)"
      ],
      "metadata": {
        "colab": {
          "base_uri": "https://localhost:8080/"
        },
        "id": "rPxLDJ5sQhVa",
        "outputId": "1af4e4cb-16af-4d49-f6ae-cba1a1cd697b"
      },
      "execution_count": 16,
      "outputs": [
        {
          "output_type": "stream",
          "name": "stdout",
          "text": [
            "(1, 2.5, 'raunak', True, 2.5)\n"
          ]
        }
      ]
    },
    {
      "cell_type": "code",
      "source": [
        "# converting a list to a tuple\n",
        "list9 = [1 , 2 , 3 , 4]\n",
        "print(list9)\n",
        "t3 = tuple(list9)\n",
        "print(t3)"
      ],
      "metadata": {
        "colab": {
          "base_uri": "https://localhost:8080/"
        },
        "id": "YV66kIK0Q8oo",
        "outputId": "cbe613d0-ba1a-4f0c-f883-da2713a806d9"
      },
      "execution_count": 4,
      "outputs": [
        {
          "output_type": "stream",
          "name": "stdout",
          "text": [
            "[1, 2, 3, 4]\n",
            "(1, 2, 3, 4)\n"
          ]
        }
      ]
    },
    {
      "cell_type": "code",
      "source": [
        "# printing elements of tuple using indices\n",
        "print(t3[2])\n",
        "print(t3[3])"
      ],
      "metadata": {
        "colab": {
          "base_uri": "https://localhost:8080/"
        },
        "id": "oNPiEZviRUeb",
        "outputId": "7369d66e-a8d9-443c-da09-cfeb781c00cb"
      },
      "execution_count": 5,
      "outputs": [
        {
          "output_type": "stream",
          "name": "stdout",
          "text": [
            "3\n",
            "4\n"
          ]
        }
      ]
    },
    {
      "cell_type": "code",
      "source": [
        "# printing no. of elements in tuple\n",
        "print(len(t3))"
      ],
      "metadata": {
        "colab": {
          "base_uri": "https://localhost:8080/"
        },
        "id": "YGdR-kgTRjMj",
        "outputId": "5322d9f7-7093-40a8-ed67-d486fb452784"
      },
      "execution_count": 6,
      "outputs": [
        {
          "output_type": "stream",
          "name": "stdout",
          "text": [
            "4\n"
          ]
        }
      ]
    },
    {
      "cell_type": "markdown",
      "source": [
        "#Set\n"
      ],
      "metadata": {
        "id": "PF5s6UPeSNEG"
      }
    },
    {
      "cell_type": "code",
      "source": [
        "set1 = {1,2,3,4}\n",
        "print(set1)\n",
        "type(set1)"
      ],
      "metadata": {
        "colab": {
          "base_uri": "https://localhost:8080/"
        },
        "id": "w8rCba66R6I2",
        "outputId": "a633d989-4234-4b3a-907a-cf48d7496030"
      },
      "execution_count": 7,
      "outputs": [
        {
          "output_type": "stream",
          "name": "stdout",
          "text": [
            "{1, 2, 3, 4}\n"
          ]
        },
        {
          "output_type": "execute_result",
          "data": {
            "text/plain": [
              "set"
            ]
          },
          "metadata": {},
          "execution_count": 7
        }
      ]
    },
    {
      "cell_type": "code",
      "source": [
        "#set doesn't support indexing\n",
        "# set supports multiple data types\n",
        "set2 = {1,2,True , \"raunak\"}\n",
        "print(set2)"
      ],
      "metadata": {
        "colab": {
          "base_uri": "https://localhost:8080/"
        },
        "id": "PVf5rSzGSXRd",
        "outputId": "2d0058e4-24e1-4e94-fe3d-5acc497f2afe"
      },
      "execution_count": 12,
      "outputs": [
        {
          "output_type": "stream",
          "name": "stdout",
          "text": [
            "{1, 2, 'raunak'}\n"
          ]
        }
      ]
    },
    {
      "cell_type": "code",
      "source": [
        "#set are immutable -> it does not support append or del"
      ],
      "metadata": {
        "id": "4A8XesbdSh4k"
      },
      "execution_count": 14,
      "outputs": []
    },
    {
      "cell_type": "code",
      "source": [
        "#convert a list to a set\n",
        "list5 = [3,4,5,7]\n",
        "x = set(list5)\n",
        "print(x)"
      ],
      "metadata": {
        "colab": {
          "base_uri": "https://localhost:8080/"
        },
        "id": "Ug5eNCnAS7UA",
        "outputId": "4fc3ce4e-7914-4195-bdd6-feb4d8cb8649"
      },
      "execution_count": 15,
      "outputs": [
        {
          "output_type": "stream",
          "name": "stdout",
          "text": [
            "{3, 4, 5, 7}\n"
          ]
        }
      ]
    },
    {
      "cell_type": "code",
      "source": [
        "#set doesn't allow duplicate values\n",
        "set5 = {2,3,2,4,3,6}\n",
        "print(set5)"
      ],
      "metadata": {
        "colab": {
          "base_uri": "https://localhost:8080/"
        },
        "id": "neFSUU-3Ts8W",
        "outputId": "09fa8acc-d426-49b7-d235-6b6982929793"
      },
      "execution_count": 17,
      "outputs": [
        {
          "output_type": "stream",
          "name": "stdout",
          "text": [
            "{2, 3, 4, 6}\n"
          ]
        }
      ]
    },
    {
      "cell_type": "markdown",
      "source": [
        "#Dictionary\n"
      ],
      "metadata": {
        "id": "mQ6rXfDHUuZD"
      }
    },
    {
      "cell_type": "code",
      "source": [
        "# key-value pair\n",
        "my_dict = {'name':'raunak', 'age':20}\n",
        "print(my_dict)\n",
        "type(my_dict)"
      ],
      "metadata": {
        "colab": {
          "base_uri": "https://localhost:8080/"
        },
        "id": "fqQpd4mMUH6T",
        "outputId": "a23bee2f-da3a-4e6e-c0c1-1a3251bcdea6"
      },
      "execution_count": 18,
      "outputs": [
        {
          "output_type": "stream",
          "name": "stdout",
          "text": [
            "{'name': 'raunak', 'age': 20}\n"
          ]
        },
        {
          "output_type": "execute_result",
          "data": {
            "text/plain": [
              "dict"
            ]
          },
          "metadata": {},
          "execution_count": 18
        }
      ]
    },
    {
      "cell_type": "code",
      "source": [
        "# values can be accessed using keys\n",
        "print(my_dict['name'])\n",
        "print(my_dict['age'])"
      ],
      "metadata": {
        "colab": {
          "base_uri": "https://localhost:8080/"
        },
        "id": "Ky5f5pQ0U5NB",
        "outputId": "b618faa9-ad53-423d-cf2d-2da5ac73cde1"
      },
      "execution_count": 19,
      "outputs": [
        {
          "output_type": "stream",
          "name": "stdout",
          "text": [
            "raunak\n",
            "20\n"
          ]
        }
      ]
    },
    {
      "cell_type": "code",
      "source": [
        "# dictionary doesn't allow duplicate values\n",
        "my_dict1 = {'name':'raunak', 'age':20 , 'name':'eesd'}\n",
        "print(my_dict1)"
      ],
      "metadata": {
        "colab": {
          "base_uri": "https://localhost:8080/"
        },
        "id": "NwTDijnFVAil",
        "outputId": "6bc95b8e-5d36-482e-cbae-a65a116a2b46"
      },
      "execution_count": 20,
      "outputs": [
        {
          "output_type": "stream",
          "name": "stdout",
          "text": [
            "{'name': 'eesd', 'age': 20}\n"
          ]
        }
      ]
    },
    {
      "cell_type": "code",
      "source": [],
      "metadata": {
        "id": "7ZKDsnXjVUhx"
      },
      "execution_count": null,
      "outputs": []
    }
  ]
}