{
  "nbformat": 4,
  "nbformat_minor": 0,
  "metadata": {
    "colab": {
      "provenance": [],
      "mount_file_id": "1uJOljmx4v8UNxqBGgdZ7iVKYvBT_vqt7",
      "authorship_tag": "ABX9TyPUhoGJRJZRYRVDpmdBuM/L",
      "include_colab_link": true
    },
    "kernelspec": {
      "name": "python3",
      "display_name": "Python 3"
    },
    "language_info": {
      "name": "python"
    }
  },
  "cells": [
    {
      "cell_type": "markdown",
      "metadata": {
        "id": "view-in-github",
        "colab_type": "text"
      },
      "source": [
        "<a href=\"https://colab.research.google.com/github/RaunakRaj2081/python_Language/blob/main/8_Numpy_Tutorial_in_Python.ipynb\" target=\"_parent\"><img src=\"https://colab.research.google.com/assets/colab-badge.svg\" alt=\"Open In Colab\"/></a>"
      ]
    },
    {
      "cell_type": "markdown",
      "source": [
        "#NumPy - Numerical Python\n",
        "\n"
      ],
      "metadata": {
        "id": "HWLP92hyF2tJ"
      }
    },
    {
      "cell_type": "markdown",
      "source": [
        "🧠 What is NumPy?\n",
        "\n",
        "NumPy (Numerical Python) is a Python library used to do mathematical and logical operations on large amounts of data quickly and easily. It mainly works with arrays (like lists but faster and more powerful).\n",
        "\n",
        "✅ Why Use NumPy?\n",
        "\n",
        "1. Faster than Python lists.\n",
        "\n",
        "2. Requires less memory.\n",
        "\n",
        "3. Supports multidimensional arrays.\n",
        "\n",
        "4. Comes with many built-in functions (mean, sum, reshape, etc.).\n",
        "\n",
        "5. Useful for data science, machine learning, and scientific computing.\n",
        "\n"
      ],
      "metadata": {
        "id": "ZGEokYpxeKT0"
      }
    },
    {
      "cell_type": "code",
      "source": [
        "import numpy as np"
      ],
      "metadata": {
        "id": "9WY69E_HGPrq"
      },
      "execution_count": 3,
      "outputs": []
    },
    {
      "cell_type": "markdown",
      "source": [
        "#List vs Numpy time taken"
      ],
      "metadata": {
        "id": "biLfJEP4JV6p"
      }
    },
    {
      "cell_type": "code",
      "source": [
        "from time import process_time"
      ],
      "metadata": {
        "id": "v8GQt_e_HW4h"
      },
      "execution_count": null,
      "outputs": []
    },
    {
      "cell_type": "markdown",
      "source": [
        "time taken by a list"
      ],
      "metadata": {
        "id": "cqwY-tAyJiGz"
      }
    },
    {
      "cell_type": "code",
      "source": [
        "python_list = [i for i in range(1000)]\n",
        "start_time = process_time()\n",
        "python_list = [i+5 for i in python_list]\n",
        "end_time = process_time()\n",
        "print(end_time - start_time)"
      ],
      "metadata": {
        "colab": {
          "base_uri": "https://localhost:8080/"
        },
        "id": "FVbH1h5WJhDX",
        "outputId": "2fc5ead8-089b-49c9-85d4-be0cfa813968"
      },
      "execution_count": null,
      "outputs": [
        {
          "output_type": "stream",
          "name": "stdout",
          "text": [
            "0.0001431010000008115\n"
          ]
        }
      ]
    },
    {
      "cell_type": "markdown",
      "source": [
        "time taken by numpy list"
      ],
      "metadata": {
        "id": "N5ItKH6WKZnS"
      }
    },
    {
      "cell_type": "code",
      "source": [
        "np_array = np.array([i for i in range(1000)])\n",
        "start_time = process_time()\n",
        "np_array += 5\n",
        "end_time = process_time()\n",
        "print(end_time - start_time)"
      ],
      "metadata": {
        "colab": {
          "base_uri": "https://localhost:8080/"
        },
        "id": "58EF1AwNKCSe",
        "outputId": "5aab62d6-aa07-4971-ae2a-f94bba5b2a23"
      },
      "execution_count": null,
      "outputs": [
        {
          "output_type": "stream",
          "name": "stdout",
          "text": [
            "0.0015161409999997488\n"
          ]
        }
      ]
    },
    {
      "cell_type": "markdown",
      "source": [
        "#Numpy Arrays"
      ],
      "metadata": {
        "id": "mFXEBVFsLfQk"
      }
    },
    {
      "cell_type": "code",
      "source": [
        "# list\n",
        "list1 = [1,2,3,4,5]\n",
        "print(list1)\n",
        "type(list1)"
      ],
      "metadata": {
        "colab": {
          "base_uri": "https://localhost:8080/"
        },
        "id": "OCoaxWx2K3ls",
        "outputId": "c833a70b-a4f7-40a7-baae-5a8ad78448c2"
      },
      "execution_count": null,
      "outputs": [
        {
          "output_type": "stream",
          "name": "stdout",
          "text": [
            "[1, 2, 3, 4, 5]\n"
          ]
        },
        {
          "output_type": "execute_result",
          "data": {
            "text/plain": [
              "list"
            ]
          },
          "metadata": {},
          "execution_count": 12
        }
      ]
    },
    {
      "cell_type": "code",
      "source": [
        "np_array = np.array([1,2,3,4,5])\n",
        "print(np_array)\n",
        "type(np_array)"
      ],
      "metadata": {
        "colab": {
          "base_uri": "https://localhost:8080/"
        },
        "id": "QIil0sogLoUK",
        "outputId": "aad6a4f6-bbfc-4d86-d66c-f17ea84cebf7"
      },
      "execution_count": null,
      "outputs": [
        {
          "output_type": "stream",
          "name": "stdout",
          "text": [
            "[1 2 3 4 5]\n"
          ]
        },
        {
          "output_type": "execute_result",
          "data": {
            "text/plain": [
              "numpy.ndarray"
            ]
          },
          "metadata": {},
          "execution_count": 13
        }
      ]
    },
    {
      "cell_type": "code",
      "source": [
        "# creating 1 dimensional array\n",
        "a = np.array([1,2,3,4])\n",
        "print(a)"
      ],
      "metadata": {
        "colab": {
          "base_uri": "https://localhost:8080/"
        },
        "id": "bg6ynA20Lwo5",
        "outputId": "1343bfab-2c4e-4c4b-d33e-e7f21f7141b2"
      },
      "execution_count": null,
      "outputs": [
        {
          "output_type": "stream",
          "name": "stdout",
          "text": [
            "[1 2 3 4]\n"
          ]
        }
      ]
    },
    {
      "cell_type": "code",
      "source": [
        "a.shape"
      ],
      "metadata": {
        "colab": {
          "base_uri": "https://localhost:8080/"
        },
        "id": "bCy1OmTkMXM9",
        "outputId": "39b568e5-381d-4174-9dac-2280bf79941f"
      },
      "execution_count": null,
      "outputs": [
        {
          "output_type": "execute_result",
          "data": {
            "text/plain": [
              "(4,)"
            ]
          },
          "metadata": {},
          "execution_count": 15
        }
      ]
    },
    {
      "cell_type": "markdown",
      "source": [
        "here the 4 represents the no. of columns"
      ],
      "metadata": {
        "id": "ndz54_52Mjkj"
      }
    },
    {
      "cell_type": "code",
      "source": [
        "b = np.array([(1,2,3,4),(5,6,7,8)])\n",
        "print(b)"
      ],
      "metadata": {
        "colab": {
          "base_uri": "https://localhost:8080/"
        },
        "id": "nC1rq36tMZep",
        "outputId": "6f3f4264-d3db-4fa3-d750-e699570d937a"
      },
      "execution_count": null,
      "outputs": [
        {
          "output_type": "stream",
          "name": "stdout",
          "text": [
            "[[1 2 3 4]\n",
            " [5 6 7 8]]\n"
          ]
        }
      ]
    },
    {
      "cell_type": "code",
      "source": [
        "b.shape"
      ],
      "metadata": {
        "colab": {
          "base_uri": "https://localhost:8080/"
        },
        "id": "LKkh3q5RMzFD",
        "outputId": "645400c3-9e1d-42d6-d08d-25d01c327022"
      },
      "execution_count": null,
      "outputs": [
        {
          "output_type": "execute_result",
          "data": {
            "text/plain": [
              "(2, 4)"
            ]
          },
          "metadata": {},
          "execution_count": 17
        }
      ]
    },
    {
      "cell_type": "markdown",
      "source": [
        "here 2 represents the no. of rows and\n",
        "4 represents the no. of columns\n",
        "\n",
        "here in numpy the value are space separated not comma separated"
      ],
      "metadata": {
        "id": "NVrDHXAmM1u4"
      }
    },
    {
      "cell_type": "code",
      "source": [
        "# float values\n",
        "c = np.array([(1,2,3,4),(5,6,7,8)],dtype=float)\n",
        "print(c)"
      ],
      "metadata": {
        "colab": {
          "base_uri": "https://localhost:8080/"
        },
        "id": "Fo5EGQBeM03C",
        "outputId": "e89465d3-36c5-45fc-fc59-49b58ed3bfeb"
      },
      "execution_count": null,
      "outputs": [
        {
          "output_type": "stream",
          "name": "stdout",
          "text": [
            "[[1. 2. 3. 4.]\n",
            " [5. 6. 7. 8.]]\n"
          ]
        }
      ]
    },
    {
      "cell_type": "markdown",
      "source": [
        "#initial placeholders in numpy array"
      ],
      "metadata": {
        "id": "0uipFUznOR6Z"
      }
    },
    {
      "cell_type": "code",
      "source": [
        "# creating a numpy array of zeros\n",
        "x = np.zeros((4,5))\n",
        "print(x)"
      ],
      "metadata": {
        "colab": {
          "base_uri": "https://localhost:8080/"
        },
        "id": "R7fYeQf6Nt7M",
        "outputId": "50bed4ed-90b2-4fa2-912e-09df8976b16e"
      },
      "execution_count": null,
      "outputs": [
        {
          "output_type": "stream",
          "name": "stdout",
          "text": [
            "[[0. 0. 0. 0. 0.]\n",
            " [0. 0. 0. 0. 0.]\n",
            " [0. 0. 0. 0. 0.]\n",
            " [0. 0. 0. 0. 0.]]\n"
          ]
        }
      ]
    },
    {
      "cell_type": "code",
      "source": [
        "# creating a numpy array of ones\n",
        "y = np.ones((3,4))\n",
        "print(y)"
      ],
      "metadata": {
        "colab": {
          "base_uri": "https://localhost:8080/"
        },
        "id": "G-TNGQt1QIOv",
        "outputId": "956e99c2-a30f-41b9-ee20-8785ff3c22e0"
      },
      "execution_count": null,
      "outputs": [
        {
          "output_type": "stream",
          "name": "stdout",
          "text": [
            "[[1. 1. 1. 1.]\n",
            " [1. 1. 1. 1.]\n",
            " [1. 1. 1. 1.]]\n"
          ]
        }
      ]
    },
    {
      "cell_type": "code",
      "source": [
        "# creating a numpy array with a particular value\n",
        "z = np.full((5,4),6)\n",
        "print(z)"
      ],
      "metadata": {
        "colab": {
          "base_uri": "https://localhost:8080/"
        },
        "id": "K8MsYOxtQYqv",
        "outputId": "65412a07-b344-4390-8646-a2d8ce9ef225"
      },
      "execution_count": null,
      "outputs": [
        {
          "output_type": "stream",
          "name": "stdout",
          "text": [
            "[[6 6 6 6]\n",
            " [6 6 6 6]\n",
            " [6 6 6 6]\n",
            " [6 6 6 6]\n",
            " [6 6 6 6]]\n"
          ]
        }
      ]
    },
    {
      "cell_type": "code",
      "source": [
        "# creating an identity matrix\n",
        "a = np.eye(4)\n",
        "print(a)"
      ],
      "metadata": {
        "colab": {
          "base_uri": "https://localhost:8080/"
        },
        "id": "WFG_snifQmOe",
        "outputId": "2de0bfb4-154f-40b0-ca79-7406f5b2cb6c"
      },
      "execution_count": null,
      "outputs": [
        {
          "output_type": "stream",
          "name": "stdout",
          "text": [
            "[[1. 0. 0. 0.]\n",
            " [0. 1. 0. 0.]\n",
            " [0. 0. 1. 0.]\n",
            " [0. 0. 0. 1.]]\n"
          ]
        }
      ]
    },
    {
      "cell_type": "code",
      "source": [
        "# create a numpy array with random values\n",
        "a = np.random.random((4,5)) # this will give random values between 0 and 1\n",
        "print(a)"
      ],
      "metadata": {
        "colab": {
          "base_uri": "https://localhost:8080/"
        },
        "id": "LkLTUZ6blf0x",
        "outputId": "f265185d-f8b4-4825-9784-4745b05d4955"
      },
      "execution_count": null,
      "outputs": [
        {
          "output_type": "stream",
          "name": "stdout",
          "text": [
            "[[0.99632419 0.36501217 0.91838356 0.78547099 0.32300173]\n",
            " [0.55939548 0.64877738 0.32138328 0.17831742 0.46994717]\n",
            " [0.21083752 0.29439829 0.12049394 0.967558   0.74505876]\n",
            " [0.50471031 0.03488262 0.59430222 0.38954415 0.83275786]]\n"
          ]
        }
      ]
    },
    {
      "cell_type": "code",
      "source": [
        "# numpy array with random integer values within a given range\n",
        "a = np.random.randint(10,100,(3,5))\n",
        "print(a)"
      ],
      "metadata": {
        "colab": {
          "base_uri": "https://localhost:8080/"
        },
        "id": "A4NhKIpvmQ9p",
        "outputId": "6c29a700-6b8c-47bd-9c63-b1aa27b25ef1"
      },
      "execution_count": null,
      "outputs": [
        {
          "output_type": "stream",
          "name": "stdout",
          "text": [
            "[[15 23 31 74 90]\n",
            " [11 96 84 22 91]\n",
            " [86 72 13 60 18]]\n"
          ]
        }
      ]
    },
    {
      "cell_type": "code",
      "source": [
        "# array of evenly spaced values (a,b,c) -> a,b represents range and c represents number of values\n",
        "b = np.linspace(10,40,5,dtype=int) # by default float\n",
        "print(b)"
      ],
      "metadata": {
        "colab": {
          "base_uri": "https://localhost:8080/"
        },
        "id": "TTgpVi_Emj53",
        "outputId": "192da9c9-7633-4f17-9b63-6e7b9be38d4f"
      },
      "execution_count": null,
      "outputs": [
        {
          "output_type": "stream",
          "name": "stdout",
          "text": [
            "[10 17 25 32 40]\n"
          ]
        }
      ]
    },
    {
      "cell_type": "code",
      "source": [
        "# array of evenly spaced values (a,b,c) -> a,b represents the range and c represents the step\n",
        "c = np.arange(10,40,5)\n",
        "print(c)"
      ],
      "metadata": {
        "colab": {
          "base_uri": "https://localhost:8080/"
        },
        "id": "vqyR1yDDoIXf",
        "outputId": "b915c6b3-f455-47ed-84b9-e9b2dba23cf2"
      },
      "execution_count": null,
      "outputs": [
        {
          "output_type": "stream",
          "name": "stdout",
          "text": [
            "[10 15 20 25 30 35]\n"
          ]
        }
      ]
    },
    {
      "cell_type": "code",
      "source": [
        "# convert a list to numpy array\n",
        "list = [2,3,4,6,7]\n",
        "np_array = np.asarray(list)\n",
        "print(np_array)\n",
        "type(np_array)"
      ],
      "metadata": {
        "colab": {
          "base_uri": "https://localhost:8080/"
        },
        "id": "fb9zYSwdogj0",
        "outputId": "0dda951a-08e8-495c-ebdf-4fc59215efec"
      },
      "execution_count": null,
      "outputs": [
        {
          "output_type": "stream",
          "name": "stdout",
          "text": [
            "[2 3 4 6 7]\n"
          ]
        },
        {
          "output_type": "execute_result",
          "data": {
            "text/plain": [
              "numpy.ndarray"
            ]
          },
          "metadata": {},
          "execution_count": 31
        }
      ]
    },
    {
      "cell_type": "markdown",
      "source": [
        "#analysing a numpy array"
      ],
      "metadata": {
        "id": "8iFjX_YGpdj3"
      }
    },
    {
      "cell_type": "code",
      "source": [
        "d = np.random.randint(20 ,100 , (4,5))\n",
        "print(d)"
      ],
      "metadata": {
        "colab": {
          "base_uri": "https://localhost:8080/"
        },
        "id": "5WDdgjGipF5H",
        "outputId": "b4292146-0340-4d0b-b39a-9573fa436078"
      },
      "execution_count": null,
      "outputs": [
        {
          "output_type": "stream",
          "name": "stdout",
          "text": [
            "[[81 29 46 51 50]\n",
            " [67 21 70 78 51]\n",
            " [43 94 52 63 25]\n",
            " [26 68 27 77 24]]\n"
          ]
        }
      ]
    },
    {
      "cell_type": "code",
      "source": [
        "# array dimension\n",
        "print(d.shape)"
      ],
      "metadata": {
        "colab": {
          "base_uri": "https://localhost:8080/"
        },
        "id": "9uxYaYXIpo36",
        "outputId": "090dee44-1304-4b81-b559-5f3e1e4335a4"
      },
      "execution_count": null,
      "outputs": [
        {
          "output_type": "stream",
          "name": "stdout",
          "text": [
            "(4, 5)\n"
          ]
        }
      ]
    },
    {
      "cell_type": "code",
      "source": [
        "# number of dimensions\n",
        "print(d.ndim)"
      ],
      "metadata": {
        "colab": {
          "base_uri": "https://localhost:8080/"
        },
        "id": "RXj-Vx5Hpy4k",
        "outputId": "fa26edfa-7b74-498f-89ec-fda83f0309a8"
      },
      "execution_count": null,
      "outputs": [
        {
          "output_type": "stream",
          "name": "stdout",
          "text": [
            "2\n"
          ]
        }
      ]
    },
    {
      "cell_type": "code",
      "source": [
        "# number of elements in an array\n",
        "print(d.size)"
      ],
      "metadata": {
        "colab": {
          "base_uri": "https://localhost:8080/"
        },
        "id": "dQwOQ8Y_p6Qg",
        "outputId": "414ef7a4-85d4-4c10-af90-c4351842fb5a"
      },
      "execution_count": null,
      "outputs": [
        {
          "output_type": "stream",
          "name": "stdout",
          "text": [
            "20\n"
          ]
        }
      ]
    },
    {
      "cell_type": "code",
      "source": [
        "# type of elements in the array\n",
        "print(d.dtype)"
      ],
      "metadata": {
        "colab": {
          "base_uri": "https://localhost:8080/"
        },
        "id": "LR9hklYEqMvJ",
        "outputId": "7eaea2bd-d69c-42bb-8aef-61cd4da638f7"
      },
      "execution_count": null,
      "outputs": [
        {
          "output_type": "stream",
          "name": "stdout",
          "text": [
            "int64\n"
          ]
        }
      ]
    },
    {
      "cell_type": "markdown",
      "source": [
        "#Mathematical operations on numpy array"
      ],
      "metadata": {
        "id": "WQA5F6ZUrUoD"
      }
    },
    {
      "cell_type": "code",
      "source": [
        "ab = np.array([1, 2, 3, 4])\n",
        "\n",
        "print(np.sum(ab))        # 10\n",
        "print(np.mean(ab))       # 2.5\n",
        "print(np.min(ab))        # 1\n",
        "print(np.max(ab))        # 4\n",
        "print(np.std(ab))        # Standard Deviation\n",
        "print(np.sqrt(ab))"
      ],
      "metadata": {
        "colab": {
          "base_uri": "https://localhost:8080/"
        },
        "id": "gn5DL9L1a6fe",
        "outputId": "88b40a6b-77c6-4aad-f023-f1c33451866b"
      },
      "execution_count": 5,
      "outputs": [
        {
          "output_type": "stream",
          "name": "stdout",
          "text": [
            "10\n",
            "2.5\n",
            "1\n",
            "4\n",
            "1.118033988749895\n",
            "[1.         1.41421356 1.73205081 2.        ]\n"
          ]
        }
      ]
    },
    {
      "cell_type": "code",
      "source": [
        "# first understand what list does\n",
        "a = [2,5,7,3]\n",
        "b = [2,9,8,1]\n",
        "print(a+b)  # here it joins both the arrays"
      ],
      "metadata": {
        "colab": {
          "base_uri": "https://localhost:8080/"
        },
        "id": "pnwTxlobqTnD",
        "outputId": "8a87027a-1331-4121-f174-a184baef466c"
      },
      "execution_count": null,
      "outputs": [
        {
          "output_type": "stream",
          "name": "stdout",
          "text": [
            "[2, 5, 7, 3, 2, 9, 8, 1]\n"
          ]
        }
      ]
    },
    {
      "cell_type": "code",
      "source": [
        "# in numpy\n",
        "c = np.random.randint(10,20,(3,4))\n",
        "d = np.random.randint(30,50,(3,4))\n",
        "print(c)\n",
        "print(d)"
      ],
      "metadata": {
        "colab": {
          "base_uri": "https://localhost:8080/"
        },
        "id": "4mQW1Xfbrpbe",
        "outputId": "db9608ca-eee2-4053-d312-3e93acee6a95"
      },
      "execution_count": null,
      "outputs": [
        {
          "output_type": "stream",
          "name": "stdout",
          "text": [
            "[[18 18 10 18]\n",
            " [16 18 13 16]\n",
            " [16 18 13 12]]\n",
            "[[43 46 35 47]\n",
            " [31 47 30 38]\n",
            " [47 42 47 32]]\n"
          ]
        }
      ]
    },
    {
      "cell_type": "code",
      "source": [
        "# operations\n",
        "print(c+d)\n",
        "print(c-d)\n",
        "print(c*d)\n",
        "print(c/d)"
      ],
      "metadata": {
        "colab": {
          "base_uri": "https://localhost:8080/"
        },
        "id": "gWj8-Gi7r4-N",
        "outputId": "12c5c1eb-a3a6-425d-9c6e-b641987b6b0d"
      },
      "execution_count": null,
      "outputs": [
        {
          "output_type": "stream",
          "name": "stdout",
          "text": [
            "[[61 64 45 65]\n",
            " [47 65 43 54]\n",
            " [63 60 60 44]]\n",
            "[[-25 -28 -25 -29]\n",
            " [-15 -29 -17 -22]\n",
            " [-31 -24 -34 -20]]\n",
            "[[774 828 350 846]\n",
            " [496 846 390 608]\n",
            " [752 756 611 384]]\n",
            "[[0.41860465 0.39130435 0.28571429 0.38297872]\n",
            " [0.51612903 0.38297872 0.43333333 0.42105263]\n",
            " [0.34042553 0.42857143 0.27659574 0.375     ]]\n"
          ]
        }
      ]
    },
    {
      "cell_type": "code",
      "source": [
        "# another way of doing these operations\n",
        "print(np.add(c,d))\n",
        "print(np.subtract(c,d))\n",
        "print(np.multiply(c,d))\n",
        "print(np.divide(c,d))"
      ],
      "metadata": {
        "colab": {
          "base_uri": "https://localhost:8080/"
        },
        "id": "z-dyVfjxsD0z",
        "outputId": "a60c081e-61e3-4990-e8f6-6ba1d4c66f3b"
      },
      "execution_count": null,
      "outputs": [
        {
          "output_type": "stream",
          "name": "stdout",
          "text": [
            "[[61 64 45 65]\n",
            " [47 65 43 54]\n",
            " [63 60 60 44]]\n",
            "[[-25 -28 -25 -29]\n",
            " [-15 -29 -17 -22]\n",
            " [-31 -24 -34 -20]]\n",
            "[[774 828 350 846]\n",
            " [496 846 390 608]\n",
            " [752 756 611 384]]\n",
            "[[0.41860465 0.39130435 0.28571429 0.38297872]\n",
            " [0.51612903 0.38297872 0.43333333 0.42105263]\n",
            " [0.34042553 0.42857143 0.27659574 0.375     ]]\n"
          ]
        }
      ]
    },
    {
      "cell_type": "markdown",
      "source": [
        "#Array Manipulation"
      ],
      "metadata": {
        "id": "OBOjjc6vtItU"
      }
    },
    {
      "cell_type": "code",
      "source": [
        "e = np.random.randint(10,60,(4,6))\n",
        "print(e)\n",
        "print(e.shape)\n",
        "trans1 = np.transpose(e)\n",
        "print(trans1)\n",
        "print(trans1.shape)"
      ],
      "metadata": {
        "colab": {
          "base_uri": "https://localhost:8080/"
        },
        "id": "u-Opy2JbsRZl",
        "outputId": "17a2aec4-e75c-42f9-d136-7024139a56e0"
      },
      "execution_count": null,
      "outputs": [
        {
          "output_type": "stream",
          "name": "stdout",
          "text": [
            "[[23 29 41 41 49 46]\n",
            " [15 25 25 23 32 30]\n",
            " [54 11 50 28 36 14]\n",
            " [16 44 55 32 49 32]]\n",
            "(4, 6)\n",
            "[[23 15 54 16]\n",
            " [29 25 11 44]\n",
            " [41 25 50 55]\n",
            " [41 23 28 32]\n",
            " [49 32 36 49]\n",
            " [46 30 14 32]]\n",
            "(6, 4)\n"
          ]
        }
      ]
    },
    {
      "cell_type": "code",
      "source": [
        "# another way of doing transpose\n",
        "trans2 = e.T\n",
        "print(trans2)\n",
        "print(trans2.shape)"
      ],
      "metadata": {
        "colab": {
          "base_uri": "https://localhost:8080/"
        },
        "id": "Urv8TVpytVdA",
        "outputId": "4d7868fc-9d81-463a-af70-37f89ec47288"
      },
      "execution_count": null,
      "outputs": [
        {
          "output_type": "stream",
          "name": "stdout",
          "text": [
            "[[23 15 54 16]\n",
            " [29 25 11 44]\n",
            " [41 25 50 55]\n",
            " [41 23 28 32]\n",
            " [49 32 36 49]\n",
            " [46 30 14 32]]\n",
            "(6, 4)\n"
          ]
        }
      ]
    },
    {
      "cell_type": "code",
      "source": [
        "# array reshaping\n",
        "f = np.random.randint(10,100,(4,6))\n",
        "print(f)\n",
        "print(f.shape)"
      ],
      "metadata": {
        "colab": {
          "base_uri": "https://localhost:8080/"
        },
        "id": "WAsE31LVtzia",
        "outputId": "4ff8519b-36c6-4810-8262-540e838370ff"
      },
      "execution_count": null,
      "outputs": [
        {
          "output_type": "stream",
          "name": "stdout",
          "text": [
            "[[88 87 50 53 34 46]\n",
            " [72 75 80 65 15 42]\n",
            " [99 60 92 54 38 46]\n",
            " [44 73 36 28 43 84]]\n",
            "(4, 6)\n"
          ]
        }
      ]
    },
    {
      "cell_type": "code",
      "source": [
        "g = f.reshape(2,12)\n",
        "print(g)\n",
        "print(g.shape)"
      ],
      "metadata": {
        "colab": {
          "base_uri": "https://localhost:8080/"
        },
        "id": "5egk7LGvt75t",
        "outputId": "afaa2a6e-c3b6-4c95-b0c1-c0e1f7185d06"
      },
      "execution_count": null,
      "outputs": [
        {
          "output_type": "stream",
          "name": "stdout",
          "text": [
            "[[88 87 50 53 34 46 72 75 80 65 15 42]\n",
            " [99 60 92 54 38 46 44 73 36 28 43 84]]\n",
            "(2, 12)\n"
          ]
        }
      ]
    },
    {
      "cell_type": "code",
      "source": [
        "a = np.array([[1, 2], [3, 4]])\n",
        "print(a.flatten())   # Convert to 1D"
      ],
      "metadata": {
        "id": "qmPW9vtCt_rk",
        "colab": {
          "base_uri": "https://localhost:8080/"
        },
        "outputId": "90bf26a0-2217-4177-cd6d-96c2285f63e6"
      },
      "execution_count": 6,
      "outputs": [
        {
          "output_type": "stream",
          "name": "stdout",
          "text": [
            "[1 2 3 4]\n"
          ]
        }
      ]
    },
    {
      "cell_type": "markdown",
      "source": [
        "#Boolean Indexing (Condition-Based)"
      ],
      "metadata": {
        "id": "YIWMlFQxckIi"
      }
    },
    {
      "cell_type": "code",
      "source": [
        "a = np.array([10, 20, 30, 40])\n",
        "print(a[a > 20])  # [30 40]"
      ],
      "metadata": {
        "colab": {
          "base_uri": "https://localhost:8080/"
        },
        "id": "LhkjL8fPcZxD",
        "outputId": "99f44df2-9ec7-41f5-d37f-3067bb9afa4a"
      },
      "execution_count": 7,
      "outputs": [
        {
          "output_type": "stream",
          "name": "stdout",
          "text": [
            "[30 40]\n"
          ]
        }
      ]
    },
    {
      "cell_type": "markdown",
      "source": [
        "# Broadcasting (Smart size matching)"
      ],
      "metadata": {
        "id": "_tFFiAc7cvRh"
      }
    },
    {
      "cell_type": "code",
      "source": [
        "a = np.array([1, 2, 3])\n",
        "b = 2\n",
        "\n",
        "print(a + b)  # [3 4 5] – b is added to all elements"
      ],
      "metadata": {
        "colab": {
          "base_uri": "https://localhost:8080/"
        },
        "id": "JoTuQYNycoAG",
        "outputId": "0870a693-f1a6-4d10-b31a-a62a60ffa596"
      },
      "execution_count": 8,
      "outputs": [
        {
          "output_type": "stream",
          "name": "stdout",
          "text": [
            "[3 4 5]\n"
          ]
        }
      ]
    },
    {
      "cell_type": "markdown",
      "source": [
        "#Joining and Splitting Arrays"
      ],
      "metadata": {
        "id": "g_wM71XLc9WY"
      }
    },
    {
      "cell_type": "code",
      "source": [
        "# Joining\n",
        "a = np.array([1, 2])\n",
        "b = np.array([3, 4])\n",
        "print(np.concatenate((a, b)))"
      ],
      "metadata": {
        "colab": {
          "base_uri": "https://localhost:8080/"
        },
        "id": "69vI3zXec0BN",
        "outputId": "f2e013bc-3fc7-42e1-af0f-ad96c01ac733"
      },
      "execution_count": 9,
      "outputs": [
        {
          "output_type": "stream",
          "name": "stdout",
          "text": [
            "[1 2 3 4]\n"
          ]
        }
      ]
    },
    {
      "cell_type": "code",
      "source": [
        "# Splitting\n",
        "arr = np.array([1, 2, 3, 4, 5, 6])\n",
        "print(np.split(arr, 3)) # 3 arrays: [1 2], [3 4], [5 6]"
      ],
      "metadata": {
        "colab": {
          "base_uri": "https://localhost:8080/"
        },
        "id": "FquBoCoodCk0",
        "outputId": "9224a1fd-1ea6-4d42-c8b7-e4ae011dc0df"
      },
      "execution_count": 11,
      "outputs": [
        {
          "output_type": "stream",
          "name": "stdout",
          "text": [
            "[array([1, 2]), array([3, 4]), array([5, 6])]\n"
          ]
        }
      ]
    },
    {
      "cell_type": "markdown",
      "source": [
        "#NumPy with Missing or Infinite Values\n",
        "\n"
      ],
      "metadata": {
        "id": "-GMsluSudXXR"
      }
    },
    {
      "cell_type": "code",
      "source": [
        "a = np.array([1, 2, np.nan, 4, np.inf])\n",
        "print(np.isnan(a))  # Check for NaN\n",
        "print(np.isinf(a))  # Check for Infinity"
      ],
      "metadata": {
        "colab": {
          "base_uri": "https://localhost:8080/"
        },
        "id": "9kI_ZjMBdMho",
        "outputId": "7c9e3c98-4333-4d6e-c537-e42c2551f512"
      },
      "execution_count": 12,
      "outputs": [
        {
          "output_type": "stream",
          "name": "stdout",
          "text": [
            "[False False  True False False]\n",
            "[False False False False  True]\n"
          ]
        }
      ]
    },
    {
      "cell_type": "markdown",
      "source": [
        "#Copy vs View"
      ],
      "metadata": {
        "id": "j7ydUgO3dkRr"
      }
    },
    {
      "cell_type": "code",
      "source": [
        "a = np.array([1, 2, 3])\n",
        "b = a.copy()  # Real copy (changes don’t affect a)\n",
        "c = a.view()  # Just a view (changes affect a)\n",
        "\n",
        "b[0] = 100\n",
        "c[1] = 200\n",
        "\n",
        "print(a)\n",
        "print(b)\n",
        "print(c)"
      ],
      "metadata": {
        "colab": {
          "base_uri": "https://localhost:8080/"
        },
        "id": "iGKFYJwQddI7",
        "outputId": "17f9a98a-7768-42d1-b361-e2f80b8adfad"
      },
      "execution_count": 13,
      "outputs": [
        {
          "output_type": "stream",
          "name": "stdout",
          "text": [
            "[  1 200   3]\n",
            "[100   2   3]\n",
            "[  1 200   3]\n"
          ]
        }
      ]
    },
    {
      "cell_type": "code",
      "source": [],
      "metadata": {
        "id": "gQkA30GidxDm"
      },
      "execution_count": null,
      "outputs": []
    }
  ]
}