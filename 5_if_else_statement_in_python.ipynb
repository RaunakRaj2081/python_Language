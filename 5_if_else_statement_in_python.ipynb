{
  "nbformat": 4,
  "nbformat_minor": 0,
  "metadata": {
    "colab": {
      "provenance": [],
      "authorship_tag": "ABX9TyOUBYf9K046skmnGJihxbOK",
      "include_colab_link": true
    },
    "kernelspec": {
      "name": "python3",
      "display_name": "Python 3"
    },
    "language_info": {
      "name": "python"
    }
  },
  "cells": [
    {
      "cell_type": "markdown",
      "metadata": {
        "id": "view-in-github",
        "colab_type": "text"
      },
      "source": [
        "<a href=\"https://colab.research.google.com/github/RaunakRaj2081/python_Language/blob/main/5_if_else_statement_in_python.ipynb\" target=\"_parent\"><img src=\"https://colab.research.google.com/assets/colab-badge.svg\" alt=\"Open In Colab\"/></a>"
      ]
    },
    {
      "cell_type": "markdown",
      "source": [
        "# simple if else statement"
      ],
      "metadata": {
        "id": "0zygACe7KG3K"
      }
    },
    {
      "cell_type": "code",
      "execution_count": 5,
      "metadata": {
        "colab": {
          "base_uri": "https://localhost:8080/"
        },
        "id": "HbRi5_pVHDHG",
        "outputId": "100818f5-81a6-4143-d7f1-2ee3969fd9f7"
      },
      "outputs": [
        {
          "output_type": "stream",
          "name": "stdout",
          "text": [
            "50 is the greatest number\n"
          ]
        }
      ],
      "source": [
        "a = 45\n",
        "b = 50\n",
        "\n",
        "if(a>b):\n",
        "  print(a ,\"is the greater number\")\n",
        "else:\n",
        "  print(b , \"is the greatest number\")"
      ]
    },
    {
      "cell_type": "markdown",
      "source": [
        "# if elif else statement"
      ],
      "metadata": {
        "id": "Yh-SRGgmK0Hu"
      }
    },
    {
      "cell_type": "code",
      "source": [
        "a = 5\n",
        "b = 6\n",
        "c = 7\n",
        "\n",
        "if(a>b and a>c):\n",
        "  print(a , \"is the greatest number\")\n",
        "elif(b>a and b>c):\n",
        "  print(b , \"is the greatest number\")\n",
        "else:\n",
        "  print(c , \"is the greatest number\")\n"
      ],
      "metadata": {
        "colab": {
          "base_uri": "https://localhost:8080/"
        },
        "id": "ObDBxxlhKZXp",
        "outputId": "159a9ac6-06c1-4a75-e210-1a3d153d78dc"
      },
      "execution_count": 4,
      "outputs": [
        {
          "output_type": "stream",
          "name": "stdout",
          "text": [
            "7 is the greatest number\n"
          ]
        }
      ]
    },
    {
      "cell_type": "markdown",
      "source": [
        "# nested if else statement"
      ],
      "metadata": {
        "id": "NBMV4SgZLN7-"
      }
    },
    {
      "cell_type": "code",
      "source": [
        "a = 20\n",
        "b = 40\n",
        "c = 60\n",
        "\n",
        "if (a>b):\n",
        "  if (a>c):\n",
        "    print('a is the greatest number')\n",
        "  else:\n",
        "    print('c is the greatest number')\n",
        "else:\n",
        "  if (b>c):\n",
        "    print('b is the greatest number')\n",
        "  else:\n",
        "    print('c is the greatest number')"
      ],
      "metadata": {
        "colab": {
          "base_uri": "https://localhost:8080/"
        },
        "id": "ES6k9Fy1LD9N",
        "outputId": "2c720dab-862a-401b-eb6d-83c906ece8ce"
      },
      "execution_count": 7,
      "outputs": [
        {
          "output_type": "stream",
          "name": "stdout",
          "text": [
            "c is the greatest number\n"
          ]
        }
      ]
    },
    {
      "cell_type": "code",
      "source": [],
      "metadata": {
        "id": "WaQHB-mKLUCR"
      },
      "execution_count": null,
      "outputs": []
    }
  ]
}